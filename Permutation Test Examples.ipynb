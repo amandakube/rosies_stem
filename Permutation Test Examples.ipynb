{
 "cells": [
  {
   "cell_type": "code",
   "execution_count": 3,
   "id": "5749e9ba",
   "metadata": {
    "hideCode": false,
    "hidePrompt": false,
    "slideshow": {
     "slide_type": "skip"
    }
   },
   "outputs": [],
   "source": [
    "import numpy as np\n",
    "import pandas as pd\n",
    "\n",
    "%matplotlib inline\n",
    "import matplotlib.pyplot as plt\n",
    "plt.style.use('fivethirtyeight')\n",
    "\n",
    "import warnings\n",
    "warnings.filterwarnings(\"ignore\")"
   ]
  },
  {
   "cell_type": "code",
   "execution_count": 4,
   "id": "80d0b961",
   "metadata": {
    "slideshow": {
     "slide_type": "skip"
    }
   },
   "outputs": [
    {
     "data": {
      "text/html": [
       "<div>\n",
       "<style scoped>\n",
       "    .dataframe tbody tr th:only-of-type {\n",
       "        vertical-align: middle;\n",
       "    }\n",
       "\n",
       "    .dataframe tbody tr th {\n",
       "        vertical-align: top;\n",
       "    }\n",
       "\n",
       "    .dataframe thead th {\n",
       "        text-align: right;\n",
       "    }\n",
       "</style>\n",
       "<table border=\"1\" class=\"dataframe\">\n",
       "  <thead>\n",
       "    <tr style=\"text-align: right;\">\n",
       "      <th></th>\n",
       "      <th>culmen_length_mm</th>\n",
       "      <th>culmen_depth_mm</th>\n",
       "      <th>flipper_length_mm</th>\n",
       "      <th>body_mass_g</th>\n",
       "    </tr>\n",
       "    <tr>\n",
       "      <th>species</th>\n",
       "      <th></th>\n",
       "      <th></th>\n",
       "      <th></th>\n",
       "      <th></th>\n",
       "    </tr>\n",
       "  </thead>\n",
       "  <tbody>\n",
       "    <tr>\n",
       "      <th>Adelie</th>\n",
       "      <td>38.791391</td>\n",
       "      <td>18.346358</td>\n",
       "      <td>189.953642</td>\n",
       "      <td>3700.662252</td>\n",
       "    </tr>\n",
       "    <tr>\n",
       "      <th>Chinstrap</th>\n",
       "      <td>48.833824</td>\n",
       "      <td>18.420588</td>\n",
       "      <td>195.823529</td>\n",
       "      <td>3733.088235</td>\n",
       "    </tr>\n",
       "    <tr>\n",
       "      <th>Gentoo</th>\n",
       "      <td>47.504878</td>\n",
       "      <td>14.982114</td>\n",
       "      <td>217.186992</td>\n",
       "      <td>5076.016260</td>\n",
       "    </tr>\n",
       "  </tbody>\n",
       "</table>\n",
       "</div>"
      ],
      "text/plain": [
       "           culmen_length_mm  culmen_depth_mm  flipper_length_mm  body_mass_g\n",
       "species                                                                     \n",
       "Adelie            38.791391        18.346358         189.953642  3700.662252\n",
       "Chinstrap         48.833824        18.420588         195.823529  3733.088235\n",
       "Gentoo            47.504878        14.982114         217.186992  5076.016260"
      ]
     },
     "execution_count": 4,
     "metadata": {},
     "output_type": "execute_result"
    }
   ],
   "source": [
    "# let's compare penguins\n",
    "penguins = pd.read_csv(\"https://raw.githubusercontent.com/amandakube/Data118LectureImages/main/penguins_size.csv\")\n",
    "penguins.groupby('species').mean(numeric_only = True)"
   ]
  },
  {
   "cell_type": "markdown",
   "id": "3b473914",
   "metadata": {
    "slideshow": {
     "slide_type": "skip"
    }
   },
   "source": [
    "I want to investigate whether there is a meaningful difference between flipper lengths for different species of penguin.\n",
    "\n",
    "Let's focus on *Gentoo* and *Chinstrap* penguins."
   ]
  },
  {
   "cell_type": "markdown",
   "id": "6b74cfd5",
   "metadata": {
    "slideshow": {
     "slide_type": "skip"
    }
   },
   "source": [
    "What is my null hypothesis?"
   ]
  },
  {
   "cell_type": "markdown",
   "id": "be79c426",
   "metadata": {
    "slideshow": {
     "slide_type": "skip"
    }
   },
   "source": [
    "     H0: Gentoo flipper_length == Chinstrap flipper_length"
   ]
  },
  {
   "cell_type": "markdown",
   "id": "30f7a34a",
   "metadata": {
    "slideshow": {
     "slide_type": "skip"
    }
   },
   "source": [
    "We have 3 options for an alternative hypothesis"
   ]
  },
  {
   "cell_type": "markdown",
   "id": "9952fab3",
   "metadata": {
    "slideshow": {
     "slide_type": "skip"
    }
   },
   "source": [
    "     HA: Gentoo flipper_length != Chinstrap flipper_length\n",
    "     HA: Gentoo flipper_length > Chinstrap flipper_length\n",
    "     HA: Gentoo flipper_length < Chinstrap flipper_length"
   ]
  },
  {
   "cell_type": "markdown",
   "id": "15ce3e12",
   "metadata": {
    "slideshow": {
     "slide_type": "skip"
    }
   },
   "source": [
    "Our data doesnt support: Gentoo flipper_length < Chinstrap flipper_length\n",
    "\n",
    "Let's choose the one-sided test for now: HA: Gentoo flipper_length > Chinstrap flipper_length"
   ]
  },
  {
   "cell_type": "markdown",
   "id": "f2f63145",
   "metadata": {
    "slideshow": {
     "slide_type": "skip"
    }
   },
   "source": [
    "We've got H0 and HA.\n",
    "\n",
    "Now we need a test statistic..."
   ]
  },
  {
   "cell_type": "markdown",
   "id": "e881bb8c",
   "metadata": {
    "slideshow": {
     "slide_type": "skip"
    }
   },
   "source": [
    "We can use difference in average flipper length"
   ]
  },
  {
   "cell_type": "code",
   "execution_count": 5,
   "id": "6a4bfa0f",
   "metadata": {
    "slideshow": {
     "slide_type": "skip"
    }
   },
   "outputs": [
    {
     "data": {
      "text/html": [
       "<div>\n",
       "<style scoped>\n",
       "    .dataframe tbody tr th:only-of-type {\n",
       "        vertical-align: middle;\n",
       "    }\n",
       "\n",
       "    .dataframe tbody tr th {\n",
       "        vertical-align: top;\n",
       "    }\n",
       "\n",
       "    .dataframe thead th {\n",
       "        text-align: right;\n",
       "    }\n",
       "</style>\n",
       "<table border=\"1\" class=\"dataframe\">\n",
       "  <thead>\n",
       "    <tr style=\"text-align: right;\">\n",
       "      <th></th>\n",
       "      <th>flipper_length_mm</th>\n",
       "    </tr>\n",
       "    <tr>\n",
       "      <th>species</th>\n",
       "      <th></th>\n",
       "    </tr>\n",
       "  </thead>\n",
       "  <tbody>\n",
       "    <tr>\n",
       "      <th>Adelie</th>\n",
       "      <td>189.953642</td>\n",
       "    </tr>\n",
       "    <tr>\n",
       "      <th>Chinstrap</th>\n",
       "      <td>195.823529</td>\n",
       "    </tr>\n",
       "    <tr>\n",
       "      <th>Gentoo</th>\n",
       "      <td>217.186992</td>\n",
       "    </tr>\n",
       "  </tbody>\n",
       "</table>\n",
       "</div>"
      ],
      "text/plain": [
       "           flipper_length_mm\n",
       "species                     \n",
       "Adelie            189.953642\n",
       "Chinstrap         195.823529\n",
       "Gentoo            217.186992"
      ]
     },
     "execution_count": 5,
     "metadata": {},
     "output_type": "execute_result"
    }
   ],
   "source": [
    "#here is the table as a reminder\n",
    "\n",
    "flipper_table = penguins.groupby('species').mean(numeric_only = True)[['flipper_length_mm']]\n",
    "flipper_table"
   ]
  },
  {
   "cell_type": "code",
   "execution_count": 13,
   "id": "bf14ed90",
   "metadata": {
    "slideshow": {
     "slide_type": "skip"
    }
   },
   "outputs": [
    {
     "data": {
      "text/plain": [
       "21.363462458154004"
      ]
     },
     "execution_count": 13,
     "metadata": {},
     "output_type": "execute_result"
    }
   ],
   "source": [
    "my_test_stat = np.mean(penguins[penguins['species']==\"Gentoo\"]['flipper_length_mm']) - np.mean(penguins[penguins['species']==\"Chinstrap\"]['flipper_length_mm'])\n",
    "my_test_stat"
   ]
  },
  {
   "cell_type": "markdown",
   "id": "9aad4691",
   "metadata": {
    "slideshow": {
     "slide_type": "skip"
    }
   },
   "source": [
    "Let's assume the null hypothesis is true..."
   ]
  },
  {
   "cell_type": "markdown",
   "id": "fc958ac1",
   "metadata": {
    "slideshow": {
     "slide_type": "skip"
    }
   },
   "source": [
    "Then, mixing up the species of the two penguins shouldn't matter... the flipper lengths are not unique to the species"
   ]
  },
  {
   "cell_type": "code",
   "execution_count": 14,
   "id": "f500a1b6",
   "metadata": {
    "slideshow": {
     "slide_type": "skip"
    }
   },
   "outputs": [
    {
     "data": {
      "image/png": "[encoded data removed]",
      "text/plain": [
       "<Figure size 640x480 with 1 Axes>"
      ]
     },
     "metadata": {},
     "output_type": "display_data"
    }
   ],
   "source": [
    "penguins_small = penguins.loc[(penguins.species == 'Chinstrap') | (penguins.species == 'Gentoo')]\n",
    "\n",
    "flippers = penguins_small[['flipper_length_mm']]\n",
    "species_labels = penguins_small['species'].values\n",
    "\n",
    "differences = np.array([])\n",
    "\n",
    "for i in np.arange(5000):\n",
    "    shuffled_flippers = flippers.sample(len(flippers),replace=False)['flipper_length_mm'].values\n",
    "    shuffled_df=pd.DataFrame({\"Shuffled Flippers\":shuffled_flippers,\"Label\":species_labels})\n",
    "    test_stat = np.mean(shuffled_df[shuffled_df['Label']==\"Gentoo\"]['Shuffled Flippers']) - np.mean(shuffled_df[shuffled_df['Label']==\"Chinstrap\"]['Shuffled Flippers']) \n",
    "    differences = np.append(differences, test_stat)\n",
    "    \n",
    "plt.hist(differences)\n",
    "plt.title(\"Difference in Average Flipper Length\")\n",
    "plt.ylabel(\"Frequency\")\n",
    "plt.xlim([-6, 22])\n",
    "plt.scatter(my_test_stat, -30, color='red', s=50);"
   ]
  },
  {
   "cell_type": "markdown",
   "id": "7c419d19",
   "metadata": {
    "slideshow": {
     "slide_type": "skip"
    }
   },
   "source": [
    "Does our test statistic look like it comes from this distribution of test statistics created assuming the null hypothesis is true? "
   ]
  },
  {
   "cell_type": "markdown",
   "id": "38d1d13e",
   "metadata": {},
   "source": [
    "Let's calculate the p-value for our one-sided alternative"
   ]
  },
  {
   "cell_type": "code",
   "execution_count": null,
   "id": "7a98114f",
   "metadata": {},
   "outputs": [],
   "source": [
    "p_value = sum(differences >= my_test_stat)/5000\n",
    "p_value"
   ]
  },
  {
   "cell_type": "markdown",
   "id": "281971b9",
   "metadata": {},
   "source": [
    "This looks weird, but makes sense..."
   ]
  },
  {
   "cell_type": "markdown",
   "id": "aaba8eb8",
   "metadata": {
    "slideshow": {
     "slide_type": "skip"
    }
   },
   "source": [
    "What is the p-value if we are testing the one-sided alternative? What decision should we make based on that p-value and a significance level of 0.05? Does our decision change if we use the two-sided alternative?"
   ]
  },
  {
   "cell_type": "markdown",
   "id": "c482214f",
   "metadata": {
    "slideshow": {
     "slide_type": "skip"
    }
   },
   "source": [
    "The p-value 0 so we would reject the null given a significance level of 0.05.\n",
    "\n",
    "The p-value stays 0 if we conduct a two-sided test!"
   ]
  },
  {
   "cell_type": "markdown",
   "id": "14c92de3",
   "metadata": {
    "slideshow": {
     "slide_type": "skip"
    }
   },
   "source": [
    "Now, what about something less straightforward?"
   ]
  },
  {
   "cell_type": "markdown",
   "id": "ce987880",
   "metadata": {
    "slideshow": {
     "slide_type": "skip"
    }
   },
   "source": [
    "Let's compare the body mass of Adelie and Chinstrap penguins using the following hypotheses:\n",
    "\n",
    "H0: Adelie body mass == body mass\n",
    "\n",
    "HA: Adelie body mass < Chinstrap body mass"
   ]
  },
  {
   "cell_type": "code",
   "execution_count": 20,
   "id": "ccfb3278",
   "metadata": {
    "slideshow": {
     "slide_type": "skip"
    }
   },
   "outputs": [
    {
     "data": {
      "image/png": "[encoded data removed]",
      "text/plain": [
       "<Figure size 640x480 with 1 Axes>"
      ]
     },
     "metadata": {},
     "output_type": "display_data"
    }
   ],
   "source": [
    "my_test_stat = np.mean(penguins[penguins['species']==\"Chinstrap\"]['body_mass_g']) - np.mean(penguins[penguins['species']==\"Adelie\"]['body_mass_g'])\n",
    "\n",
    "penguins_small = penguins.loc[(penguins.species == 'Chinstrap') | (penguins.species == 'Adelie')]\n",
    "\n",
    "mass = penguins_small[['body_mass_g']]\n",
    "species_labels = penguins_small['species'].values\n",
    "\n",
    "differences = np.array([])\n",
    "\n",
    "for i in np.arange(5000):\n",
    "    shuffled_mass = mass.sample(len(flippers),replace=False)['body_mass_g'].values\n",
    "    shuffled_df=pd.DataFrame({\"Shuffled Mass\":shuffled_mass,\"Label\":species_labels})\n",
    "    test_stat = np.mean(shuffled_df[shuffled_df['Label']==\"Chinstrap\"]['Shuffled Mass']) - np.mean(shuffled_df[shuffled_df['Label']==\"Adelie\"]['Shuffled Mass']) \n",
    "    differences = np.append(differences, test_stat)\n",
    "    \n",
    "plt.hist(differences)\n",
    "plt.title(\"Difference in Average Flipper Length\");\n",
    "plt.ylabel(\"Frequency\");\n",
    "plt.scatter(my_test_stat, -30, color='red', s=50);"
   ]
  },
  {
   "cell_type": "markdown",
   "id": "24b49338",
   "metadata": {
    "slideshow": {
     "slide_type": "skip"
    }
   },
   "source": [
    "Now, does our test statistic look like it comes from this distribution of test statistics created assuming the null hypothesis is true?"
   ]
  },
  {
   "cell_type": "markdown",
   "id": "f3c77651",
   "metadata": {
    "slideshow": {
     "slide_type": "skip"
    }
   },
   "source": [
    "Yes!"
   ]
  },
  {
   "cell_type": "markdown",
   "id": "8a4eacea",
   "metadata": {
    "slideshow": {
     "slide_type": "skip"
    }
   },
   "source": [
    "Let's check the p-value"
   ]
  },
  {
   "cell_type": "code",
   "execution_count": 21,
   "id": "5f66d89c",
   "metadata": {
    "slideshow": {
     "slide_type": "skip"
    }
   },
   "outputs": [
    {
     "data": {
      "text/plain": [
       "0.3046"
      ]
     },
     "execution_count": 21,
     "metadata": {},
     "output_type": "execute_result"
    }
   ],
   "source": [
    "p_value = sum(differences >= my_test_stat)/5000\n",
    "p_value"
   ]
  },
  {
   "cell_type": "markdown",
   "id": "6eb3603b",
   "metadata": {},
   "source": [
    "So we cannot reject the null hypothesis at the 0.05 significance level."
   ]
  },
  {
   "cell_type": "code",
   "execution_count": null,
   "id": "eac5fa61",
   "metadata": {},
   "outputs": [],
   "source": []
  }
 ],
 "metadata": {
  "celltoolbar": "Slideshow",
  "hide_code_all_hidden": false,
  "kernelspec": {
   "display_name": "Python 3 (ipykernel)",
   "language": "python",
   "name": "python3"
  },
  "language_info": {
   "codemirror_mode": {
    "name": "ipython",
    "version": 3
   },
   "file_extension": ".py",
   "mimetype": "text/x-python",
   "name": "python",
   "nbconvert_exporter": "python",
   "pygments_lexer": "ipython3",
   "version": "3.9.6"
  },
  "latex_envs": {
   "LaTeX_envs_menu_present": true,
   "autoclose": false,
   "autocomplete": true,
   "bibliofile": "biblio.bib",
   "cite_by": "apalike",
   "current_citInitial": 1,
   "eqLabelWithNumbers": true,
   "eqNumInitial": 1,
   "hotkeys": {
    "equation": "Ctrl-E",
    "itemize": "Ctrl-I"
   },
   "labels_anchors": false,
   "latex_user_defs": false,
   "report_style_numbering": false,
   "user_envs_cfg": false
  },
  "rise": {
   "scroll": true
  },
  "toc": {
   "base_numbering": 1,
   "nav_menu": {},
   "number_sections": false,
   "sideBar": true,
   "skip_h1_title": false,
   "title_cell": "Table of Contents",
   "title_sidebar": "Contents",
   "toc_cell": false,
   "toc_position": {
    "height": "calc(100% - 180px)",
    "left": "10px",
    "top": "150px",
    "width": "165px"
   },
   "toc_section_display": true,
   "toc_window_display": false
  }
 },
 "nbformat": 4,
 "nbformat_minor": 5
}
